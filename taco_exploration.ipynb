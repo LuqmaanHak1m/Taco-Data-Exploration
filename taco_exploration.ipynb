{
 "cells": [
  {
   "cell_type": "markdown",
   "id": "f394e359",
   "metadata": {},
   "source": [
    "# Taco data exploration"
   ]
  },
  {
   "cell_type": "markdown",
   "id": "5a5095e7",
   "metadata": {},
   "source": [
    "## Imports"
   ]
  },
  {
   "cell_type": "code",
   "execution_count": 7,
   "id": "5be667e2",
   "metadata": {},
   "outputs": [],
   "source": [
    "import pandas as pd\n",
    "import matplotlib.pyplot as plt"
   ]
  },
  {
   "cell_type": "markdown",
   "id": "d7f62e5c",
   "metadata": {},
   "source": [
    "## Data Loading"
   ]
  },
  {
   "cell_type": "code",
   "execution_count": 3,
   "id": "018920df",
   "metadata": {},
   "outputs": [
    {
     "data": {
      "text/html": [
       "<div>\n",
       "<style scoped>\n",
       "    .dataframe tbody tr th:only-of-type {\n",
       "        vertical-align: middle;\n",
       "    }\n",
       "\n",
       "    .dataframe tbody tr th {\n",
       "        vertical-align: top;\n",
       "    }\n",
       "\n",
       "    .dataframe thead th {\n",
       "        text-align: right;\n",
       "    }\n",
       "</style>\n",
       "<table border=\"1\" class=\"dataframe\">\n",
       "  <thead>\n",
       "    <tr style=\"text-align: right;\">\n",
       "      <th></th>\n",
       "      <th>Order ID</th>\n",
       "      <th>Restaurant Name</th>\n",
       "      <th>Location</th>\n",
       "      <th>Order Time</th>\n",
       "      <th>Delivery Time</th>\n",
       "      <th>Delivery Duration (min)</th>\n",
       "      <th>Taco Size</th>\n",
       "      <th>Taco Type</th>\n",
       "      <th>Toppings Count</th>\n",
       "      <th>Distance (km)</th>\n",
       "      <th>Price ($)</th>\n",
       "      <th>Tip ($)</th>\n",
       "      <th>Weekend Order</th>\n",
       "    </tr>\n",
       "  </thead>\n",
       "  <tbody>\n",
       "    <tr>\n",
       "      <th>0</th>\n",
       "      <td>770487</td>\n",
       "      <td>El Taco Loco</td>\n",
       "      <td>New York</td>\n",
       "      <td>01-08-2024 14:55</td>\n",
       "      <td>01-08-2024 15:36</td>\n",
       "      <td>41</td>\n",
       "      <td>Regular</td>\n",
       "      <td>Chicken Taco</td>\n",
       "      <td>5</td>\n",
       "      <td>3.01</td>\n",
       "      <td>9.25</td>\n",
       "      <td>2.22</td>\n",
       "      <td>False</td>\n",
       "    </tr>\n",
       "    <tr>\n",
       "      <th>1</th>\n",
       "      <td>671858</td>\n",
       "      <td>El Taco Loco</td>\n",
       "      <td>San Antonio</td>\n",
       "      <td>23-11-2024 17:11</td>\n",
       "      <td>23-11-2024 17:25</td>\n",
       "      <td>14</td>\n",
       "      <td>Regular</td>\n",
       "      <td>Beef Taco</td>\n",
       "      <td>1</td>\n",
       "      <td>6.20</td>\n",
       "      <td>4.25</td>\n",
       "      <td>3.01</td>\n",
       "      <td>True</td>\n",
       "    </tr>\n",
       "    <tr>\n",
       "      <th>2</th>\n",
       "      <td>688508</td>\n",
       "      <td>Taco Haven</td>\n",
       "      <td>Austin</td>\n",
       "      <td>21-11-2024 20:24</td>\n",
       "      <td>21-11-2024 21:02</td>\n",
       "      <td>38</td>\n",
       "      <td>Large</td>\n",
       "      <td>Pork Taco</td>\n",
       "      <td>2</td>\n",
       "      <td>20.33</td>\n",
       "      <td>7.00</td>\n",
       "      <td>0.02</td>\n",
       "      <td>False</td>\n",
       "    </tr>\n",
       "    <tr>\n",
       "      <th>3</th>\n",
       "      <td>944962</td>\n",
       "      <td>Spicy Taco House</td>\n",
       "      <td>Dallas</td>\n",
       "      <td>21-09-2024 06:43</td>\n",
       "      <td>21-09-2024 07:28</td>\n",
       "      <td>45</td>\n",
       "      <td>Regular</td>\n",
       "      <td>Chicken Taco</td>\n",
       "      <td>2</td>\n",
       "      <td>3.00</td>\n",
       "      <td>5.50</td>\n",
       "      <td>1.90</td>\n",
       "      <td>True</td>\n",
       "    </tr>\n",
       "    <tr>\n",
       "      <th>4</th>\n",
       "      <td>476417</td>\n",
       "      <td>Casa del Taco</td>\n",
       "      <td>San Antonio</td>\n",
       "      <td>24-07-2024 11:01</td>\n",
       "      <td>24-07-2024 11:16</td>\n",
       "      <td>15</td>\n",
       "      <td>Large</td>\n",
       "      <td>Pork Taco</td>\n",
       "      <td>0</td>\n",
       "      <td>24.34</td>\n",
       "      <td>4.50</td>\n",
       "      <td>1.14</td>\n",
       "      <td>False</td>\n",
       "    </tr>\n",
       "  </tbody>\n",
       "</table>\n",
       "</div>"
      ],
      "text/plain": [
       "   Order ID   Restaurant Name     Location        Order Time  \\\n",
       "0    770487      El Taco Loco     New York  01-08-2024 14:55   \n",
       "1    671858      El Taco Loco  San Antonio  23-11-2024 17:11   \n",
       "2    688508        Taco Haven       Austin  21-11-2024 20:24   \n",
       "3    944962  Spicy Taco House       Dallas  21-09-2024 06:43   \n",
       "4    476417     Casa del Taco  San Antonio  24-07-2024 11:01   \n",
       "\n",
       "      Delivery Time  Delivery Duration (min) Taco Size     Taco Type  \\\n",
       "0  01-08-2024 15:36                       41   Regular  Chicken Taco   \n",
       "1  23-11-2024 17:25                       14   Regular     Beef Taco   \n",
       "2  21-11-2024 21:02                       38     Large     Pork Taco   \n",
       "3  21-09-2024 07:28                       45   Regular  Chicken Taco   \n",
       "4  24-07-2024 11:16                       15     Large     Pork Taco   \n",
       "\n",
       "   Toppings Count  Distance (km)  Price ($)  Tip ($)  Weekend Order  \n",
       "0               5           3.01       9.25     2.22          False  \n",
       "1               1           6.20       4.25     3.01           True  \n",
       "2               2          20.33       7.00     0.02          False  \n",
       "3               2           3.00       5.50     1.90           True  \n",
       "4               0          24.34       4.50     1.14          False  "
      ]
     },
     "execution_count": 3,
     "metadata": {},
     "output_type": "execute_result"
    }
   ],
   "source": [
    "# Load dataset\n",
    "df = pd.read_csv('taco_sales_(2024-2025).csv')\n",
    "\n",
    "# Preview\n",
    "df.head()"
   ]
  },
  {
   "cell_type": "markdown",
   "id": "4a850533",
   "metadata": {},
   "source": [
    "## Description"
   ]
  },
  {
   "cell_type": "code",
   "execution_count": 6,
   "id": "00e18ac2",
   "metadata": {},
   "outputs": [
    {
     "data": {
      "text/plain": [
       "(1000, 13)"
      ]
     },
     "execution_count": 6,
     "metadata": {},
     "output_type": "execute_result"
    }
   ],
   "source": [
    "df.shape"
   ]
  },
  {
   "cell_type": "code",
   "execution_count": 4,
   "id": "4d204bac",
   "metadata": {},
   "outputs": [
    {
     "data": {
      "text/html": [
       "<div>\n",
       "<style scoped>\n",
       "    .dataframe tbody tr th:only-of-type {\n",
       "        vertical-align: middle;\n",
       "    }\n",
       "\n",
       "    .dataframe tbody tr th {\n",
       "        vertical-align: top;\n",
       "    }\n",
       "\n",
       "    .dataframe thead th {\n",
       "        text-align: right;\n",
       "    }\n",
       "</style>\n",
       "<table border=\"1\" class=\"dataframe\">\n",
       "  <thead>\n",
       "    <tr style=\"text-align: right;\">\n",
       "      <th></th>\n",
       "      <th>Order ID</th>\n",
       "      <th>Delivery Duration (min)</th>\n",
       "      <th>Toppings Count</th>\n",
       "      <th>Distance (km)</th>\n",
       "      <th>Price ($)</th>\n",
       "      <th>Tip ($)</th>\n",
       "    </tr>\n",
       "  </thead>\n",
       "  <tbody>\n",
       "    <tr>\n",
       "      <th>count</th>\n",
       "      <td>1000.000000</td>\n",
       "      <td>1000.00000</td>\n",
       "      <td>1000.000000</td>\n",
       "      <td>1000.000000</td>\n",
       "      <td>1000.000000</td>\n",
       "      <td>1000.000000</td>\n",
       "    </tr>\n",
       "    <tr>\n",
       "      <th>mean</th>\n",
       "      <td>552504.865000</td>\n",
       "      <td>50.93000</td>\n",
       "      <td>2.529000</td>\n",
       "      <td>13.073420</td>\n",
       "      <td>6.908250</td>\n",
       "      <td>1.806110</td>\n",
       "    </tr>\n",
       "    <tr>\n",
       "      <th>std</th>\n",
       "      <td>255948.779709</td>\n",
       "      <td>23.22754</td>\n",
       "      <td>1.717005</td>\n",
       "      <td>7.142268</td>\n",
       "      <td>2.310137</td>\n",
       "      <td>1.132035</td>\n",
       "    </tr>\n",
       "    <tr>\n",
       "      <th>min</th>\n",
       "      <td>101139.000000</td>\n",
       "      <td>10.00000</td>\n",
       "      <td>0.000000</td>\n",
       "      <td>0.510000</td>\n",
       "      <td>3.000000</td>\n",
       "      <td>0.010000</td>\n",
       "    </tr>\n",
       "    <tr>\n",
       "      <th>25%</th>\n",
       "      <td>331796.750000</td>\n",
       "      <td>30.00000</td>\n",
       "      <td>1.000000</td>\n",
       "      <td>6.972500</td>\n",
       "      <td>4.500000</td>\n",
       "      <td>0.907500</td>\n",
       "    </tr>\n",
       "    <tr>\n",
       "      <th>50%</th>\n",
       "      <td>559740.000000</td>\n",
       "      <td>53.00000</td>\n",
       "      <td>3.000000</td>\n",
       "      <td>13.200000</td>\n",
       "      <td>6.750000</td>\n",
       "      <td>1.760000</td>\n",
       "    </tr>\n",
       "    <tr>\n",
       "      <th>75%</th>\n",
       "      <td>771781.750000</td>\n",
       "      <td>71.00000</td>\n",
       "      <td>4.000000</td>\n",
       "      <td>19.242500</td>\n",
       "      <td>9.250000</td>\n",
       "      <td>2.520000</td>\n",
       "    </tr>\n",
       "    <tr>\n",
       "      <th>max</th>\n",
       "      <td>999138.000000</td>\n",
       "      <td>90.00000</td>\n",
       "      <td>5.000000</td>\n",
       "      <td>24.980000</td>\n",
       "      <td>10.750000</td>\n",
       "      <td>4.980000</td>\n",
       "    </tr>\n",
       "  </tbody>\n",
       "</table>\n",
       "</div>"
      ],
      "text/plain": [
       "            Order ID  Delivery Duration (min)  Toppings Count  Distance (km)  \\\n",
       "count    1000.000000               1000.00000     1000.000000    1000.000000   \n",
       "mean   552504.865000                 50.93000        2.529000      13.073420   \n",
       "std    255948.779709                 23.22754        1.717005       7.142268   \n",
       "min    101139.000000                 10.00000        0.000000       0.510000   \n",
       "25%    331796.750000                 30.00000        1.000000       6.972500   \n",
       "50%    559740.000000                 53.00000        3.000000      13.200000   \n",
       "75%    771781.750000                 71.00000        4.000000      19.242500   \n",
       "max    999138.000000                 90.00000        5.000000      24.980000   \n",
       "\n",
       "         Price ($)      Tip ($)  \n",
       "count  1000.000000  1000.000000  \n",
       "mean      6.908250     1.806110  \n",
       "std       2.310137     1.132035  \n",
       "min       3.000000     0.010000  \n",
       "25%       4.500000     0.907500  \n",
       "50%       6.750000     1.760000  \n",
       "75%       9.250000     2.520000  \n",
       "max      10.750000     4.980000  "
      ]
     },
     "execution_count": 4,
     "metadata": {},
     "output_type": "execute_result"
    }
   ],
   "source": [
    "df.describe()"
   ]
  },
  {
   "cell_type": "code",
   "execution_count": 5,
   "id": "7a1ef071",
   "metadata": {},
   "outputs": [
    {
     "name": "stdout",
     "output_type": "stream",
     "text": [
      "<class 'pandas.core.frame.DataFrame'>\n",
      "RangeIndex: 1000 entries, 0 to 999\n",
      "Data columns (total 13 columns):\n",
      " #   Column                   Non-Null Count  Dtype  \n",
      "---  ------                   --------------  -----  \n",
      " 0   Order ID                 1000 non-null   int64  \n",
      " 1   Restaurant Name          1000 non-null   object \n",
      " 2   Location                 1000 non-null   object \n",
      " 3   Order Time               1000 non-null   object \n",
      " 4   Delivery Time            1000 non-null   object \n",
      " 5   Delivery Duration (min)  1000 non-null   int64  \n",
      " 6   Taco Size                1000 non-null   object \n",
      " 7   Taco Type                1000 non-null   object \n",
      " 8   Toppings Count           1000 non-null   int64  \n",
      " 9   Distance (km)            1000 non-null   float64\n",
      " 10  Price ($)                1000 non-null   float64\n",
      " 11  Tip ($)                  1000 non-null   float64\n",
      " 12  Weekend Order            1000 non-null   bool   \n",
      "dtypes: bool(1), float64(3), int64(3), object(6)\n",
      "memory usage: 94.9+ KB\n"
     ]
    }
   ],
   "source": [
    "df.info()"
   ]
  },
  {
   "cell_type": "markdown",
   "id": "816a76fb",
   "metadata": {},
   "source": [
    "## Spread of the data"
   ]
  },
  {
   "cell_type": "code",
   "execution_count": null,
   "id": "78798640",
   "metadata": {},
   "outputs": [],
   "source": []
  },
  {
   "cell_type": "code",
   "execution_count": 19,
   "id": "d769a631",
   "metadata": {},
   "outputs": [
    {
     "data": {
      "image/png": "[encoded data removed]",
      "text/plain": [
       "<Figure size 2000x1000 with 1 Axes>"
      ]
     },
     "metadata": {},
     "output_type": "display_data"
    }
   ],
   "source": [
    "restaurantCounts = df.groupby(\"Restaurant Name\").count().sort_values(\"Location\")\n",
    "\n",
    "fig, ax = plt.subplots(figsize=(20,10))\n",
    "plt.bar(restaurantCounts.index, restaurantCounts[\"Location\"])\n",
    "plt.show()"
   ]
  },
  {
   "cell_type": "code",
   "execution_count": null,
   "id": "73332e7f",
   "metadata": {},
   "outputs": [],
   "source": []
  }
 ],
 "metadata": {
  "kernelspec": {
   "display_name": "Python 3",
   "language": "python",
   "name": "python3"
  },
  "language_info": {
   "codemirror_mode": {
    "name": "ipython",
    "version": 3
   },
   "file_extension": ".py",
   "mimetype": "text/x-python",
   "name": "python",
   "nbconvert_exporter": "python",
   "pygments_lexer": "ipython3",
   "version": "3.12.4"
  }
 },
 "nbformat": 4,
 "nbformat_minor": 5
}
